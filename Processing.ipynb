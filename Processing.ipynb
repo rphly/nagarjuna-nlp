{
 "cells": [
  {
   "cell_type": "code",
   "execution_count": 122,
   "id": "88ed3127",
   "metadata": {},
   "outputs": [],
   "source": [
    "import nltk\n",
    "import os\n",
    "import re\n",
    "from nltk.corpus import stopwords"
   ]
  },
  {
   "cell_type": "code",
   "execution_count": 128,
   "id": "95fe387d",
   "metadata": {},
   "outputs": [
    {
     "name": "stderr",
     "output_type": "stream",
     "text": [
      "[nltk_data] Downloading package stopwords to\n",
      "[nltk_data]     /Users/raphaelyee/nltk_data...\n",
      "[nltk_data]   Unzipping corpora/stopwords.zip.\n"
     ]
    },
    {
     "data": {
      "text/plain": [
       "True"
      ]
     },
     "execution_count": 128,
     "metadata": {},
     "output_type": "execute_result"
    }
   ],
   "source": [
    "# download stopwords\n",
    "nltk.download('stopwords')"
   ]
  },
  {
   "cell_type": "code",
   "execution_count": 151,
   "id": "9c6393cf",
   "metadata": {},
   "outputs": [],
   "source": [
    "def remove_punctuation(txt):\n",
    "    txt = txt.encode(\"ascii\", \"ignore\").decode()\n",
    "    return re.sub(rf\"[{string.punctuation}]\", \"\", txt)"
   ]
  },
  {
   "cell_type": "code",
   "execution_count": 152,
   "id": "16e645f9",
   "metadata": {},
   "outputs": [],
   "source": [
    "content = None\n",
    "with open(\"yuktisastika.txt\", \"r\") as f:\n",
    "    content = f.read()\n",
    "\n",
    "# split by newline\n",
    "lines = content.split(\"\\n\")\n",
    "\n",
    "# purge titles and footer\n",
    "lines = lines[5:-6]\n",
    "\n",
    "# remove verse titles\n",
    "lines = list(filter(lambda x: not x.isnumeric() and not x.startswith(\"\\x0c\"), lines))"
   ]
  },
  {
   "cell_type": "code",
   "execution_count": 153,
   "id": "27d3b77a",
   "metadata": {},
   "outputs": [],
   "source": [
    "before_punc = \" \".join(lines)\n",
    "after_punc = remove_punctuation(before_punc)"
   ]
  },
  {
   "cell_type": "markdown",
   "id": "09ad2254",
   "metadata": {},
   "source": [
    "### Remove stopwords"
   ]
  },
  {
   "cell_type": "code",
   "execution_count": 136,
   "id": "ac2eee3a",
   "metadata": {},
   "outputs": [],
   "source": [
    "en_stopwords = stopwords.words('english')"
   ]
  },
  {
   "cell_type": "code",
   "execution_count": 132,
   "id": "5f6a35fa",
   "metadata": {
    "scrolled": true
   },
   "outputs": [],
   "source": [
    "lowercased = after_punc.lower()"
   ]
  },
  {
   "cell_type": "code",
   "execution_count": 138,
   "id": "2cddc0a2",
   "metadata": {},
   "outputs": [],
   "source": [
    "removed_stopwords = list(filter(lambda x: not x in en_stopwords, lowercased.split(\" \")))"
   ]
  },
  {
   "cell_type": "code",
   "execution_count": 142,
   "id": "31cf637a",
   "metadata": {},
   "outputs": [],
   "source": [
    "final_text = ' '.join(removed_stopwords)"
   ]
  },
  {
   "cell_type": "code",
   "execution_count": null,
   "id": "be053303",
   "metadata": {},
   "outputs": [],
   "source": []
  },
  {
   "cell_type": "markdown",
   "id": "479529fb",
   "metadata": {},
   "source": [
    "### Write to file"
   ]
  },
  {
   "cell_type": "code",
   "execution_count": 144,
   "id": "385724f3",
   "metadata": {},
   "outputs": [],
   "source": [
    "with open (\"output.txt\", \"w\") as f:\n",
    "    f.write(final_text)"
   ]
  },
  {
   "cell_type": "code",
   "execution_count": null,
   "id": "df444e54",
   "metadata": {},
   "outputs": [],
   "source": []
  },
  {
   "cell_type": "markdown",
   "id": "926a8457",
   "metadata": {},
   "source": [
    "### Preserve line structure"
   ]
  },
  {
   "cell_type": "code",
   "execution_count": 156,
   "id": "2e2d8a7d",
   "metadata": {},
   "outputs": [],
   "source": [
    "cleaned_lines = [remove_punctuation(line) for line in lines]"
   ]
  },
  {
   "cell_type": "code",
   "execution_count": 158,
   "id": "dd3b328d",
   "metadata": {},
   "outputs": [],
   "source": [
    "maintained_sentences = \"\\n\".join(cleaned_lines)"
   ]
  },
  {
   "cell_type": "code",
   "execution_count": 159,
   "id": "ec386e69",
   "metadata": {},
   "outputs": [],
   "source": [
    "with open (\"maintained_sentences.txt\", \"w\") as f:\n",
    "    f.write(maintained_sentences)"
   ]
  },
  {
   "cell_type": "code",
   "execution_count": null,
   "id": "0b1a56eb",
   "metadata": {},
   "outputs": [],
   "source": []
  },
  {
   "cell_type": "markdown",
   "id": "d8d87a9e",
   "metadata": {},
   "source": [
    "### Preserve all punc"
   ]
  },
  {
   "cell_type": "code",
   "execution_count": 161,
   "id": "d7fbb983",
   "metadata": {
    "scrolled": true
   },
   "outputs": [],
   "source": [
    "with open (\"text_only.txt\", \"w\") as f:\n",
    "    f.write(before_punc)"
   ]
  },
  {
   "cell_type": "code",
   "execution_count": null,
   "id": "1c02d0b5",
   "metadata": {},
   "outputs": [],
   "source": []
  }
 ],
 "metadata": {
  "kernelspec": {
   "display_name": "Python 3 (ipykernel)",
   "language": "python",
   "name": "python3"
  },
  "language_info": {
   "codemirror_mode": {
    "name": "ipython",
    "version": 3
   },
   "file_extension": ".py",
   "mimetype": "text/x-python",
   "name": "python",
   "nbconvert_exporter": "python",
   "pygments_lexer": "ipython3",
   "version": "3.9.16"
  }
 },
 "nbformat": 4,
 "nbformat_minor": 5
}
